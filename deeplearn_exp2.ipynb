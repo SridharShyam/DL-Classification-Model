{
  "nbformat": 4,
  "nbformat_minor": 0,
  "metadata": {
    "colab": {
      "provenance": []
    },
    "kernelspec": {
      "name": "python3",
      "display_name": "Python 3"
    },
    "language_info": {
      "name": "python"
    }
  },
  "cells": [
    {
      "cell_type": "code",
      "execution_count": null,
      "metadata": {
        "id": "8lpMksv1qL4_"
      },
      "outputs": [],
      "source": [
        "import torch\n",
        "import torch.nn as nn\n",
        "import torch.optim as optim\n",
        "import torch.nn.functional as F\n",
        "import pandas as pd\n",
        "import numpy as np\n",
        "from sklearn.model_selection import train_test_split\n",
        "from sklearn.preprocessing import StandardScaler\n",
        "from sklearn.metrics import accuracy_score, confusion_matrix, classification_report\n",
        "from torch.utils.data import TensorDataset, DataLoader\n",
        "from sklearn.datasets import load_iris\n",
        "import seaborn as sns\n",
        "import matplotlib.pyplot as plt"
      ]
    },
    {
      "cell_type": "code",
      "source": [
        "iris=load_iris()\n",
        "x=iris.data\n",
        "y=iris.target"
      ],
      "metadata": {
        "id": "z_YZNBr5rAmp"
      },
      "execution_count": null,
      "outputs": []
    },
    {
      "cell_type": "code",
      "source": [
        "df=pd.DataFrame(x,columns=iris.feature_names)\n",
        "df['target']=y\n",
        "\n",
        "print(\"\\nFirst 5 rows of the dataset:\\n\",df.head())\n",
        "print(\"\\nLast 5 rows of the dataset:\\n\",df.tail())"
      ],
      "metadata": {
        "colab": {
          "base_uri": "https://localhost:8080/"
        },
        "id": "48YcMo8vrYYG",
        "outputId": "438052d8-14aa-477d-bc65-a371c32635ca"
      },
      "execution_count": null,
      "outputs": [
        {
          "output_type": "stream",
          "name": "stdout",
          "text": [
            "\n",
            "First 5 rows of the dataset:\n",
            "    sepal length (cm)  sepal width (cm)  petal length (cm)  petal width (cm)  \\\n",
            "0                5.1               3.5                1.4               0.2   \n",
            "1                4.9               3.0                1.4               0.2   \n",
            "2                4.7               3.2                1.3               0.2   \n",
            "3                4.6               3.1                1.5               0.2   \n",
            "4                5.0               3.6                1.4               0.2   \n",
            "\n",
            "   target  \n",
            "0       0  \n",
            "1       0  \n",
            "2       0  \n",
            "3       0  \n",
            "4       0  \n",
            "\n",
            "Last 5 rows of the dataset:\n",
            "      sepal length (cm)  sepal width (cm)  petal length (cm)  petal width (cm)  \\\n",
            "145                6.7               3.0                5.2               2.3   \n",
            "146                6.3               2.5                5.0               1.9   \n",
            "147                6.5               3.0                5.2               2.0   \n",
            "148                6.2               3.4                5.4               2.3   \n",
            "149                5.9               3.0                5.1               1.8   \n",
            "\n",
            "     target  \n",
            "145       2  \n",
            "146       2  \n",
            "147       2  \n",
            "148       2  \n",
            "149       2  \n"
          ]
        }
      ]
    },
    {
      "cell_type": "code",
      "source": [
        "x_train,x_test,y_train,y_test=train_test_split(x,y,test_size=0.2,random_state=42)\n",
        "\n",
        "scaler=StandardScaler()\n",
        "x_train=scaler.fit_transform(x_train)\n",
        "x_test=scaler.transform(x_test)\n",
        "\n",
        "x_train=torch.tensor(x_train,dtype=torch.float32)\n",
        "x_test=torch.tensor(x_test,dtype=torch.float32)\n",
        "y_train=torch.tensor(y_train,dtype=torch.long)\n",
        "y_test=torch.tensor(y_test,dtype=torch.long)\n",
        "\n",
        "train_dataset=TensorDataset(x_train, y_train)\n",
        "test_dataset=TensorDataset(x_test, y_test)\n",
        "train_loader=DataLoader(train_dataset, batch_size=16, shuffle=True)\n",
        "test_loader=DataLoader(test_dataset, batch_size=16)\n",
        "\n",
        "\n",
        "class IrisClassifier(nn.Module):\n",
        "  def __init__(self,input_size):\n",
        "    super(IrisClassifier,self).__init__()\n",
        "    self.fc1=nn.Linear(input_size, 16)\n",
        "    self.fc2=nn.Linear(16, 8)\n",
        "    self.fc3=nn.Linear(8, 3)\n",
        "\n",
        "  def forward(self, x):\n",
        "    x=F.relu(self.fc1(x))\n",
        "    x=F.relu(self.fc2(x))\n",
        "    return self.fc3(x)\n",
        "\n",
        "def train_model(model, train_loader, criterion, optimizer, epochs):\n",
        "  for epoch in range(epochs):\n",
        "    model.train()\n",
        "    for x_batch, y_batch in train_loader:\n",
        "      optimizer.zero_grad()\n",
        "      outputs=model(x_batch)\n",
        "      loss=criterion(outputs, y_batch)\n",
        "      loss.backward()\n",
        "      optimizer.step()\n",
        "    if (epoch + 1) % 10 == 0:\n",
        "      print(f\"Epoch [{epoch + 1}/{epochs}], Loss: {loss.item():.4f}\")\n",
        "\n",
        "model = IrisClassifier(input_size=x_train.shape[1])\n",
        "criterion = nn.CrossEntropyLoss()\n",
        "optimizer = optim.Adam(model.parameters(), lr=0.001)\n",
        "\n",
        "train_model(model, train_loader, criterion, optimizer, epochs=100)\n",
        "\n",
        "model.eval()\n",
        "predictions, actuals = [], []\n",
        "with torch.no_grad():\n",
        "  for x_batch, y_batch in test_loader:\n",
        "    outputs = model(x_batch)\n",
        "    _, predicted = torch.max(outputs, 1)\n",
        "    predictions.extend(predicted.numpy())\n",
        "    actuals.extend(y_batch.numpy())\n",
        "\n",
        "accuracy=accuracy_score(actuals, predictions)\n",
        "confusion_matrix=confusion_matrix(actuals, predictions)\n",
        "classification_report=classification_report(actuals, predictions)\n",
        "\n",
        "\n",
        "print(\"Name: SHYAM S\")\n",
        "print(\"Register Number: 212223240156\")\n",
        "print(f\"Accuracy: {accuracy:.2f}\")\n",
        "print(\"Confusion Matrix:\\n\", confusion_matrix)\n",
        "print(\"Classification Report:\\n\", classification_report)"
      ],
      "metadata": {
        "id": "LKlduXAVr8aA",
        "colab": {
          "base_uri": "https://localhost:8080/"
        },
        "outputId": "946711fe-fce6-4098-ea4d-32bf3533fa0c"
      },
      "execution_count": null,
      "outputs": [
        {
          "output_type": "stream",
          "name": "stdout",
          "text": [
            "Epoch [10/100], Loss: 0.8025\n",
            "Epoch [20/100], Loss: 0.4782\n",
            "Epoch [30/100], Loss: 0.3743\n",
            "Epoch [40/100], Loss: 0.2116\n",
            "Epoch [50/100], Loss: 0.2699\n",
            "Epoch [60/100], Loss: 0.2413\n",
            "Epoch [70/100], Loss: 0.0539\n",
            "Epoch [80/100], Loss: 0.1023\n",
            "Epoch [90/100], Loss: 0.0646\n",
            "Epoch [100/100], Loss: 0.0499\n",
            "Name: SHYAM S\n",
            "Register Number: 212223240156\n",
            "Accuracy: 1.00\n",
            "Confusion Matrix:\n",
            " [[10  0  0]\n",
            " [ 0  9  0]\n",
            " [ 0  0 11]]\n",
            "Classification Report:\n",
            "               precision    recall  f1-score   support\n",
            "\n",
            "           0       1.00      1.00      1.00        10\n",
            "           1       1.00      1.00      1.00         9\n",
            "           2       1.00      1.00      1.00        11\n",
            "\n",
            "    accuracy                           1.00        30\n",
            "   macro avg       1.00      1.00      1.00        30\n",
            "weighted avg       1.00      1.00      1.00        30\n",
            "\n"
          ]
        }
      ]
    },
    {
      "cell_type": "code",
      "source": [
        "plt.figure(figsize=(6,5))\n",
        "sns.heatmap(confusion_matrix, annot=True,cmap='Blues', xticklabels=iris.target_names, yticklabels=iris.target_names, fmt='g')\n",
        "plt.xlabel('Predicted')\n",
        "plt.ylabel('Actual')\n",
        "plt.title('Confusion Matrix')\n",
        "plt.show()\n",
        "\n",
        "sample_input = x_test[5].unsqueeze(0)\n",
        "with torch.no_grad():\n",
        "  output = model(sample_input)\n",
        "  predicted_class_index = torch.argmax(output[0]).item()\n",
        "  predicted_class_label = iris.target_names[predicted_class_index]\n",
        "\n",
        "print(\"\\nName: SHYAM S\")\n",
        "print(\"Register Name: 212223240156\")\n",
        "print(f\"Predicted class for sample input: {predicted_class_label}\")\n",
        "print(f\"Actual class for sample input: {iris.target_names[y_test[5].item()]}\")"
      ],
      "metadata": {
        "colab": {
          "base_uri": "https://localhost:8080/",
          "height": 574
        },
        "id": "SvfVexWPcidn",
        "outputId": "2b1f4f99-630a-4f1d-afb4-ce6be57d953b"
      },
      "execution_count": null,
      "outputs": [
        {
          "output_type": "display_data",
          "data": {
            "text/plain": [
              "<Figure size 600x500 with 2 Axes>"
            ],
            "image/png": "[encoded data removed]"
          },
          "metadata": {}
        },
        {
          "output_type": "stream",
          "name": "stdout",
          "text": [
            "\n",
            "Name: SHYAM S\n",
            "Register Name: 212223240156\n",
            "Predicted class for sample input: setosa\n",
            "Actual class for sample input: setosa\n"
          ]
        }
      ]
    },
    {
      "cell_type": "code",
      "source": [],
      "metadata": {
        "id": "ll-O7a-482fK"
      },
      "execution_count": null,
      "outputs": []
    }
  ]
}